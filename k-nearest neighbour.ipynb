{
 "cells": [
  {
   "cell_type": "code",
   "execution_count": 12,
   "metadata": {},
   "outputs": [
    {
     "name": "stdout",
     "output_type": "stream",
     "text": [
      "the number of neighbors required are 5\n",
      "The acccuracy of the prediction on the basis of test set is 0.7262569832402235\n",
      "The accuracy of the prediction on the basis of train set is 0.8047752808988764\n"
     ]
    }
   ],
   "source": [
    "import pandas as pd\n",
    "import numpy as np\n",
    "from sklearn.neighbors import KNeighborsClassifier\n",
    "from sklearn.metrics import accuracy_score\n",
    "#READ THE DATA \n",
    "train = pd.read_csv(\"train-data.csv\")\n",
    "test = pd.read_csv(\"test-data.csv\")\n",
    "\n",
    "#SEPERATING THE INDEPENDENT VARIABLE IN TRAINING DATA SET\n",
    "train_x = train.drop(columns=['Survived'],axis=1)\n",
    "train_y = train['Survived']\n",
    "\n",
    "#SEPERATING THE INDEPENDENT VARIABLE IN TEST DATA SET \n",
    "test_x = test.drop(columns=['Survived'],axis=1)\n",
    "test_y = test['Survived']\n",
    "#MODEL THE K-NEAREST NEIGHBOR\n",
    "model = KNeighborsClassifier()\n",
    "model.fit(train_x,train_y)\n",
    "#total number of neighbors required\n",
    "print(\"the number of neighbors required are\",model.n_neighbors)\n",
    "\n",
    "#PREDICTING ON THE BASIS OF TEST DATASET\n",
    "predict_test = model.predict(test_x)\n",
    "#CHECHING THE ACCURACY\n",
    "accuracy_test=  accuracy_score(test_y,predict_test)\n",
    "print(\"The acccuracy of the prediction on the basis of test set is\",accuracy_test)\n",
    "#PREDICTING ON BASIS OF TRAIN DATASET\n",
    "predict_train = model.predict(train_x)\n",
    "#CHECKING THE ACCURACY\n",
    "accuracy_train = accuracy_score(train_y,predict_train)\n",
    "print(\"The accuracy of the prediction on the basis of train set is\",accuracy_train)"
   ]
  },
  {
   "cell_type": "code",
   "execution_count": null,
   "metadata": {},
   "outputs": [],
   "source": []
  },
  {
   "cell_type": "code",
   "execution_count": null,
   "metadata": {},
   "outputs": [],
   "source": []
  },
  {
   "cell_type": "code",
   "execution_count": null,
   "metadata": {},
   "outputs": [],
   "source": []
  },
  {
   "cell_type": "code",
   "execution_count": null,
   "metadata": {},
   "outputs": [],
   "source": []
  }
 ],
 "metadata": {
  "kernelspec": {
   "display_name": "Python 3",
   "language": "python",
   "name": "python3"
  },
  "language_info": {
   "codemirror_mode": {
    "name": "ipython",
    "version": 3
   },
   "file_extension": ".py",
   "mimetype": "text/x-python",
   "name": "python",
   "nbconvert_exporter": "python",
   "pygments_lexer": "ipython3",
   "version": "3.8.5"
  }
 },
 "nbformat": 4,
 "nbformat_minor": 4
}
